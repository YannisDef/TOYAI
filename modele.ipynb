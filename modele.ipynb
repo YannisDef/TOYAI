{
 "cells": [
  {
   "cell_type": "code",
   "execution_count": 1,
   "id": "80a9ed41-643c-491b-9705-40f60100294d",
   "metadata": {},
   "outputs": [
    {
     "name": "stdout",
     "output_type": "stream",
     "text": [
      "Looking in links: /cvmfs/soft.computecanada.ca/custom/python/wheelhouse/gentoo2020/avx512, /cvmfs/soft.computecanada.ca/custom/python/wheelhouse/gentoo/avx512, /cvmfs/soft.computecanada.ca/custom/python/wheelhouse/gentoo2020/avx2, /cvmfs/soft.computecanada.ca/custom/python/wheelhouse/gentoo/avx2, /cvmfs/soft.computecanada.ca/custom/python/wheelhouse/gentoo2020/generic, /cvmfs/soft.computecanada.ca/custom/python/wheelhouse/gentoo/generic, /cvmfs/soft.computecanada.ca/custom/python/wheelhouse/generic\n",
      "Requirement already satisfied: tensorflow in /localscratch/thomaslaboucheix.201.0/lib/python3.9/site-packages (2.14.0+computecanada)\n",
      "Requirement already satisfied: libclang>=13.0.0 in /localscratch/thomaslaboucheix.201.0/lib/python3.9/site-packages (from tensorflow) (14.0.1+computecanada)\n",
      "Requirement already satisfied: six>=1.12.0 in /cvmfs/soft.computecanada.ca/easybuild/software/2020/avx512/Core/python/3.9.6/lib/python3.9/site-packages (from tensorflow) (1.16.0)\n",
      "Requirement already satisfied: flatbuffers>=23.5.26 in /localscratch/thomaslaboucheix.201.0/lib/python3.9/site-packages (from tensorflow) (20190709135844+computecanada)\n",
      "Requirement already satisfied: tensorflow-io-gcs-filesystem>=0.23.1 in /localscratch/thomaslaboucheix.201.0/lib/python3.9/site-packages (from tensorflow) (0.32.0+computecanada)\n",
      "Requirement already satisfied: tensorflow-estimator<2.15,>=2.14.0 in /localscratch/thomaslaboucheix.201.0/lib/python3.9/site-packages (from tensorflow) (2.14.0+computecanada)\n",
      "Requirement already satisfied: wrapt<1.15,>=1.11.0 in /localscratch/thomaslaboucheix.201.0/lib/python3.9/site-packages (from tensorflow) (1.14.1+computecanada)\n",
      "Requirement already satisfied: typing-extensions>=3.6.6 in /opt/ipython-kernel/lib/python3.9/site-packages (from tensorflow) (4.8.0)\n",
      "Requirement already satisfied: absl-py>=1.0.0 in /localscratch/thomaslaboucheix.201.0/lib/python3.9/site-packages (from tensorflow) (2.0.0+computecanada)\n",
      "Requirement already satisfied: google-pasta>=0.1.1 in /localscratch/thomaslaboucheix.201.0/lib/python3.9/site-packages (from tensorflow) (0.2.0+computecanada)\n",
      "Requirement already satisfied: protobuf!=4.21.0,!=4.21.1,!=4.21.2,!=4.21.3,!=4.21.4,!=4.21.5,<5.0.0dev,>=3.20.3 in /localscratch/thomaslaboucheix.201.0/lib/python3.9/site-packages (from tensorflow) (4.25.1)\n",
      "Requirement already satisfied: tensorboard<2.15,>=2.14 in /localscratch/thomaslaboucheix.201.0/lib/python3.9/site-packages (from tensorflow) (2.14.1+computecanada)\n",
      "Requirement already satisfied: numpy>=1.23.5 in /localscratch/thomaslaboucheix.201.0/lib/python3.9/site-packages (from tensorflow) (1.25.2+computecanada)\n",
      "Requirement already satisfied: packaging in /opt/ipython-kernel/lib/python3.9/site-packages (from tensorflow) (23.2)\n",
      "Requirement already satisfied: keras<2.15,>=2.14.0 in /localscratch/thomaslaboucheix.201.0/lib/python3.9/site-packages (from tensorflow) (2.14.0+computecanada)\n",
      "Requirement already satisfied: h5py>=2.9.0 in /localscratch/thomaslaboucheix.201.0/lib/python3.9/site-packages (from tensorflow) (3.8.0+computecanada)\n",
      "Requirement already satisfied: astunparse>=1.6.0 in /localscratch/thomaslaboucheix.201.0/lib/python3.9/site-packages (from tensorflow) (1.6.3+computecanada)\n",
      "Requirement already satisfied: ml-dtypes==0.2.0 in /localscratch/thomaslaboucheix.201.0/lib/python3.9/site-packages (from tensorflow) (0.2.0+computecanada)\n",
      "Requirement already satisfied: grpcio<2.0,>=1.24.3 in /localscratch/thomaslaboucheix.201.0/lib/python3.9/site-packages (from tensorflow) (1.57.0+computecanada)\n",
      "Requirement already satisfied: opt-einsum>=2.3.2 in /localscratch/thomaslaboucheix.201.0/lib/python3.9/site-packages (from tensorflow) (3.3.0+computecanada)\n",
      "Requirement already satisfied: gast!=0.5.0,!=0.5.1,!=0.5.2,>=0.2.1 in /localscratch/thomaslaboucheix.201.0/lib/python3.9/site-packages (from tensorflow) (0.5.4+computecanada)\n",
      "Requirement already satisfied: termcolor>=1.1.0 in /localscratch/thomaslaboucheix.201.0/lib/python3.9/site-packages (from tensorflow) (2.4.0)\n",
      "Requirement already satisfied: setuptools in /opt/ipython-kernel/lib/python3.9/site-packages (from tensorflow) (68.2.2)\n",
      "Requirement already satisfied: wheel<1.0,>=0.23.0 in /cvmfs/soft.computecanada.ca/easybuild/software/2020/avx512/Core/python/3.9.6/lib/python3.9/site-packages (from astunparse>=1.6.0->tensorflow) (0.36.2)\n",
      "Requirement already satisfied: google-auth-oauthlib<1.1,>=0.5 in /localscratch/thomaslaboucheix.201.0/lib/python3.9/site-packages (from tensorboard<2.15,>=2.14->tensorflow) (1.0.0+computecanada)\n",
      "Requirement already satisfied: requests<3,>=2.21.0 in /localscratch/thomaslaboucheix.201.0/lib/python3.9/site-packages (from tensorboard<2.15,>=2.14->tensorflow) (2.31.0+computecanada)\n",
      "Requirement already satisfied: tensorboard-data-server<0.8.0,>=0.7.0 in /localscratch/thomaslaboucheix.201.0/lib/python3.9/site-packages (from tensorboard<2.15,>=2.14->tensorflow) (0.7.2+computecanada)\n",
      "Requirement already satisfied: google-auth<3,>=1.6.3 in /localscratch/thomaslaboucheix.201.0/lib/python3.9/site-packages (from tensorboard<2.15,>=2.14->tensorflow) (2.25.2)\n",
      "Requirement already satisfied: markdown>=2.6.8 in /localscratch/thomaslaboucheix.201.0/lib/python3.9/site-packages (from tensorboard<2.15,>=2.14->tensorflow) (3.5.1+computecanada)\n",
      "Requirement already satisfied: werkzeug>=1.0.1 in /localscratch/thomaslaboucheix.201.0/lib/python3.9/site-packages (from tensorboard<2.15,>=2.14->tensorflow) (3.0.1+computecanada)\n",
      "Requirement already satisfied: rsa<5,>=3.1.4 in /localscratch/thomaslaboucheix.201.0/lib/python3.9/site-packages (from google-auth<3,>=1.6.3->tensorboard<2.15,>=2.14->tensorflow) (4.9+computecanada)\n",
      "Requirement already satisfied: pyasn1-modules>=0.2.1 in /localscratch/thomaslaboucheix.201.0/lib/python3.9/site-packages (from google-auth<3,>=1.6.3->tensorboard<2.15,>=2.14->tensorflow) (0.3.0+computecanada)\n",
      "Requirement already satisfied: cachetools<6.0,>=2.0.0 in /localscratch/thomaslaboucheix.201.0/lib/python3.9/site-packages (from google-auth<3,>=1.6.3->tensorboard<2.15,>=2.14->tensorflow) (5.3.2+computecanada)\n",
      "Requirement already satisfied: requests-oauthlib>=0.7.0 in /localscratch/thomaslaboucheix.201.0/lib/python3.9/site-packages (from google-auth-oauthlib<1.1,>=0.5->tensorboard<2.15,>=2.14->tensorflow) (1.3.1+computecanada)\n",
      "Requirement already satisfied: importlib-metadata>=4.4 in /opt/ipython-kernel/lib/python3.9/site-packages (from markdown>=2.6.8->tensorboard<2.15,>=2.14->tensorflow) (6.8.0)\n",
      "Requirement already satisfied: urllib3<3,>=1.21.1 in /localscratch/thomaslaboucheix.201.0/lib/python3.9/site-packages (from requests<3,>=2.21.0->tensorboard<2.15,>=2.14->tensorflow) (2.1.0+computecanada)\n",
      "Requirement already satisfied: charset-normalizer<4,>=2 in /localscratch/thomaslaboucheix.201.0/lib/python3.9/site-packages (from requests<3,>=2.21.0->tensorboard<2.15,>=2.14->tensorflow) (3.3.2)\n",
      "Requirement already satisfied: idna<4,>=2.5 in /localscratch/thomaslaboucheix.201.0/lib/python3.9/site-packages (from requests<3,>=2.21.0->tensorboard<2.15,>=2.14->tensorflow) (3.6)\n",
      "Requirement already satisfied: certifi>=2017.4.17 in /localscratch/thomaslaboucheix.201.0/lib/python3.9/site-packages (from requests<3,>=2.21.0->tensorboard<2.15,>=2.14->tensorflow) (2023.11.17)\n",
      "Requirement already satisfied: MarkupSafe>=2.1.1 in /localscratch/thomaslaboucheix.201.0/lib/python3.9/site-packages (from werkzeug>=1.0.1->tensorboard<2.15,>=2.14->tensorflow) (2.1.3+computecanada)\n",
      "Requirement already satisfied: zipp>=0.5 in /opt/ipython-kernel/lib/python3.9/site-packages (from importlib-metadata>=4.4->markdown>=2.6.8->tensorboard<2.15,>=2.14->tensorflow) (3.17.0)\n",
      "Requirement already satisfied: pyasn1<0.6.0,>=0.4.6 in /localscratch/thomaslaboucheix.201.0/lib/python3.9/site-packages (from pyasn1-modules>=0.2.1->google-auth<3,>=1.6.3->tensorboard<2.15,>=2.14->tensorflow) (0.5.1+computecanada)\n",
      "Requirement already satisfied: oauthlib>=3.0.0 in /localscratch/thomaslaboucheix.201.0/lib/python3.9/site-packages (from requests-oauthlib>=0.7.0->google-auth-oauthlib<1.1,>=0.5->tensorboard<2.15,>=2.14->tensorflow) (3.2.2+computecanada)\n",
      "Looking in links: /cvmfs/soft.computecanada.ca/custom/python/wheelhouse/gentoo2020/avx512, /cvmfs/soft.computecanada.ca/custom/python/wheelhouse/gentoo/avx512, /cvmfs/soft.computecanada.ca/custom/python/wheelhouse/gentoo2020/avx2, /cvmfs/soft.computecanada.ca/custom/python/wheelhouse/gentoo/avx2, /cvmfs/soft.computecanada.ca/custom/python/wheelhouse/gentoo2020/generic, /cvmfs/soft.computecanada.ca/custom/python/wheelhouse/gentoo/generic, /cvmfs/soft.computecanada.ca/custom/python/wheelhouse/generic\n",
      "Requirement already satisfied: numpy in /localscratch/thomaslaboucheix.201.0/lib/python3.9/site-packages (1.25.2+computecanada)\n"
     ]
    }
   ],
   "source": [
    "!pip install tensorflow\n",
    "!pip install numpy"
   ]
  },
  {
   "cell_type": "code",
   "execution_count": 2,
   "id": "53a9a751-667a-4abc-8a88-37d1dd71b5fe",
   "metadata": {},
   "outputs": [
    {
     "name": "stdout",
     "output_type": "stream",
     "text": [
      "Looking in links: /cvmfs/soft.computecanada.ca/custom/python/wheelhouse/gentoo2020/avx512, /cvmfs/soft.computecanada.ca/custom/python/wheelhouse/gentoo/avx512, /cvmfs/soft.computecanada.ca/custom/python/wheelhouse/gentoo2020/avx2, /cvmfs/soft.computecanada.ca/custom/python/wheelhouse/gentoo/avx2, /cvmfs/soft.computecanada.ca/custom/python/wheelhouse/gentoo2020/generic, /cvmfs/soft.computecanada.ca/custom/python/wheelhouse/gentoo/generic, /cvmfs/soft.computecanada.ca/custom/python/wheelhouse/generic\n",
      "Processing /cvmfs/soft.computecanada.ca/custom/python/wheelhouse/gentoo/avx2/matplotlib-3.7.2+computecanada-cp39-cp39-linux_x86_64.whl\n",
      "Processing /cvmfs/soft.computecanada.ca/custom/python/wheelhouse/gentoo2020/avx2/Pillow-10.1.0+computecanada-cp39-cp39-linux_x86_64.whl\n",
      "Requirement already satisfied: python-dateutil>=2.7 in /opt/ipython-kernel/lib/python3.9/site-packages (from matplotlib) (2.8.2)\n",
      "Processing /cvmfs/soft.computecanada.ca/custom/python/wheelhouse/generic/pyparsing-3.0.9+computecanada-py3-none-any.whl\n",
      "Requirement already satisfied: packaging>=20.0 in /opt/ipython-kernel/lib/python3.9/site-packages (from matplotlib) (23.2)\n",
      "Processing /cvmfs/soft.computecanada.ca/custom/python/wheelhouse/gentoo/avx2/kiwisolver-1.4.5+computecanada-cp39-cp39-linux_x86_64.whl\n",
      "Processing /cvmfs/soft.computecanada.ca/custom/python/wheelhouse/generic/contourpy-1.1.1+computecanada-cp39-cp39-linux_x86_64.whl\n",
      "Processing /cvmfs/soft.computecanada.ca/custom/python/wheelhouse/generic/cycler-0.12.1+computecanada-py3-none-any.whl\n",
      "Requirement already satisfied: numpy>=1.20 in /localscratch/thomaslaboucheix.201.0/lib/python3.9/site-packages (from matplotlib) (1.25.2+computecanada)\n",
      "Collecting importlib-resources>=3.2.0\n",
      "  Using cached importlib_resources-6.1.1-py3-none-any.whl (33 kB)\n",
      "Collecting fonttools>=4.22.0\n",
      "  Downloading fonttools-4.46.0-py3-none-any.whl (1.1 MB)\n",
      "\u001b[2K     \u001b[90m━━━━━━━━━━━━━━━━━━━━━━━━━━━━━━━━━━━━━━━━\u001b[0m \u001b[32m1.1/1.1 MB\u001b[0m \u001b[31m18.8 MB/s\u001b[0m eta \u001b[36m0:00:00\u001b[0ma \u001b[36m0:00:01\u001b[0m\n",
      "\u001b[?25hRequirement already satisfied: zipp>=3.1.0 in /opt/ipython-kernel/lib/python3.9/site-packages (from importlib-resources>=3.2.0->matplotlib) (3.17.0)\n",
      "Requirement already satisfied: six>=1.5 in /cvmfs/soft.computecanada.ca/easybuild/software/2020/avx512/Core/python/3.9.6/lib/python3.9/site-packages (from python-dateutil>=2.7->matplotlib) (1.16.0)\n",
      "Installing collected packages: pyparsing, pillow, kiwisolver, importlib-resources, fonttools, cycler, contourpy, matplotlib\n",
      "Successfully installed contourpy-1.1.1+computecanada cycler-0.12.1+computecanada fonttools-4.46.0 importlib-resources-6.1.1 kiwisolver-1.4.5+computecanada matplotlib-3.7.2+computecanada pillow-10.1.0+computecanada pyparsing-3.0.9+computecanada\n"
     ]
    }
   ],
   "source": [
    "!pip install matplotlib"
   ]
  },
  {
   "cell_type": "code",
   "execution_count": 7,
   "id": "d856939d-dee6-49f0-8931-7466d5ee2603",
   "metadata": {},
   "outputs": [],
   "source": [
    "import numpy as np\n",
    "import sys\n",
    "import datetime\n",
    "import matplotlib.pyplot as plt"
   ]
  },
  {
   "cell_type": "code",
   "execution_count": 8,
   "id": "abc7574f-3390-4696-a20d-6d2c64ef22d9",
   "metadata": {},
   "outputs": [],
   "source": [
    "from tensorflow import keras\n",
    "from tensorflow.keras.models import Model\n",
    "import tensorflow as tf"
   ]
  },
  {
   "cell_type": "code",
   "execution_count": 5,
   "id": "e3268333-933f-46ce-af48-f0d187fb34f2",
   "metadata": {},
   "outputs": [
    {
     "name": "stdout",
     "output_type": "stream",
     "text": [
      "OCT2017 /train\n",
      "OCT2017 /test\n",
      "/project/60006/thomaslaboucheix/OCT2017 /train\n"
     ]
    }
   ],
   "source": [
    "import pathlib\n",
    "import os\n",
    "\n",
    "data_dir_train = pathlib.Path('./OCT2017 /train/')\n",
    "data_dir_test = pathlib.Path('./OCT2017 /test/')\n",
    "print(data_dir_train)\n",
    "print(data_dir_test)\n",
    "print(os.path.abspath(data_dir_train))"
   ]
  },
  {
   "cell_type": "code",
   "execution_count": 6,
   "id": "e7a2ff66-68ba-4903-80e5-7e1d9e48f51a",
   "metadata": {},
   "outputs": [
    {
     "ename": "KeyboardInterrupt",
     "evalue": "",
     "output_type": "error",
     "traceback": [
      "\u001b[0;31m---------------------------------------------------------------------------\u001b[0m",
      "\u001b[0;31mKeyboardInterrupt\u001b[0m                         Traceback (most recent call last)",
      "Cell \u001b[0;32mIn[6], line 5\u001b[0m\n\u001b[1;32m      2\u001b[0m img_height \u001b[38;5;241m=\u001b[39m \u001b[38;5;241m200\u001b[39m\n\u001b[1;32m      3\u001b[0m img_width \u001b[38;5;241m=\u001b[39m \u001b[38;5;241m200\u001b[39m\n\u001b[0;32m----> 5\u001b[0m train_data \u001b[38;5;241m=\u001b[39m \u001b[43mtf\u001b[49m\u001b[38;5;241;43m.\u001b[39;49m\u001b[43mkeras\u001b[49m\u001b[38;5;241;43m.\u001b[39;49m\u001b[43mpreprocessing\u001b[49m\u001b[38;5;241;43m.\u001b[39;49m\u001b[43mimage_dataset_from_directory\u001b[49m\u001b[43m(\u001b[49m\n\u001b[1;32m      6\u001b[0m \u001b[43m  \u001b[49m\u001b[43mdata_dir_train\u001b[49m\u001b[43m,\u001b[49m\n\u001b[1;32m      7\u001b[0m \u001b[43m  \u001b[49m\u001b[43mvalidation_split\u001b[49m\u001b[38;5;241;43m=\u001b[39;49m\u001b[38;5;241;43m0.2\u001b[39;49m\u001b[43m,\u001b[49m\n\u001b[1;32m      8\u001b[0m \u001b[43m  \u001b[49m\u001b[43msubset\u001b[49m\u001b[38;5;241;43m=\u001b[39;49m\u001b[38;5;124;43m\"\u001b[39;49m\u001b[38;5;124;43mtraining\u001b[39;49m\u001b[38;5;124;43m\"\u001b[39;49m\u001b[43m,\u001b[49m\n\u001b[1;32m      9\u001b[0m \u001b[43m  \u001b[49m\u001b[43mseed\u001b[49m\u001b[38;5;241;43m=\u001b[39;49m\u001b[38;5;241;43m42\u001b[39;49m\u001b[43m,\u001b[49m\n\u001b[1;32m     10\u001b[0m \u001b[43m  \u001b[49m\u001b[43mimage_size\u001b[49m\u001b[38;5;241;43m=\u001b[39;49m\u001b[43m(\u001b[49m\u001b[43mimg_height\u001b[49m\u001b[43m,\u001b[49m\u001b[43m \u001b[49m\u001b[43mimg_width\u001b[49m\u001b[43m)\u001b[49m\u001b[43m,\u001b[49m\n\u001b[1;32m     11\u001b[0m \u001b[43m  \u001b[49m\u001b[43mbatch_size\u001b[49m\u001b[38;5;241;43m=\u001b[39;49m\u001b[43mbatch_size\u001b[49m\u001b[43m,\u001b[49m\n\u001b[1;32m     12\u001b[0m \u001b[43m)\u001b[49m\n\u001b[1;32m     14\u001b[0m val_data \u001b[38;5;241m=\u001b[39m tf\u001b[38;5;241m.\u001b[39mkeras\u001b[38;5;241m.\u001b[39mpreprocessing\u001b[38;5;241m.\u001b[39mimage_dataset_from_directory(\n\u001b[1;32m     15\u001b[0m   data_dir_test,\n\u001b[1;32m     16\u001b[0m   validation_split\u001b[38;5;241m=\u001b[39m\u001b[38;5;241m0.2\u001b[39m,\n\u001b[0;32m   (...)\u001b[0m\n\u001b[1;32m     20\u001b[0m   batch_size\u001b[38;5;241m=\u001b[39mbatch_size\n\u001b[1;32m     21\u001b[0m )\n\u001b[1;32m     23\u001b[0m class_names \u001b[38;5;241m=\u001b[39m train_data\u001b[38;5;241m.\u001b[39mclass_names\n",
      "File \u001b[0;32m/localscratch/thomaslaboucheix.201.0/lib/python3.9/site-packages/keras/src/utils/image_dataset.py:213\u001b[0m, in \u001b[0;36mimage_dataset_from_directory\u001b[0;34m(directory, labels, label_mode, class_names, color_mode, batch_size, image_size, shuffle, seed, validation_split, subset, interpolation, follow_links, crop_to_aspect_ratio, **kwargs)\u001b[0m\n\u001b[1;32m    211\u001b[0m \u001b[38;5;28;01mif\u001b[39;00m seed \u001b[38;5;129;01mis\u001b[39;00m \u001b[38;5;28;01mNone\u001b[39;00m:\n\u001b[1;32m    212\u001b[0m     seed \u001b[38;5;241m=\u001b[39m np\u001b[38;5;241m.\u001b[39mrandom\u001b[38;5;241m.\u001b[39mrandint(\u001b[38;5;241m1e6\u001b[39m)\n\u001b[0;32m--> 213\u001b[0m image_paths, labels, class_names \u001b[38;5;241m=\u001b[39m \u001b[43mdataset_utils\u001b[49m\u001b[38;5;241;43m.\u001b[39;49m\u001b[43mindex_directory\u001b[49m\u001b[43m(\u001b[49m\n\u001b[1;32m    214\u001b[0m \u001b[43m    \u001b[49m\u001b[43mdirectory\u001b[49m\u001b[43m,\u001b[49m\n\u001b[1;32m    215\u001b[0m \u001b[43m    \u001b[49m\u001b[43mlabels\u001b[49m\u001b[43m,\u001b[49m\n\u001b[1;32m    216\u001b[0m \u001b[43m    \u001b[49m\u001b[43mformats\u001b[49m\u001b[38;5;241;43m=\u001b[39;49m\u001b[43mALLOWLIST_FORMATS\u001b[49m\u001b[43m,\u001b[49m\n\u001b[1;32m    217\u001b[0m \u001b[43m    \u001b[49m\u001b[43mclass_names\u001b[49m\u001b[38;5;241;43m=\u001b[39;49m\u001b[43mclass_names\u001b[49m\u001b[43m,\u001b[49m\n\u001b[1;32m    218\u001b[0m \u001b[43m    \u001b[49m\u001b[43mshuffle\u001b[49m\u001b[38;5;241;43m=\u001b[39;49m\u001b[43mshuffle\u001b[49m\u001b[43m,\u001b[49m\n\u001b[1;32m    219\u001b[0m \u001b[43m    \u001b[49m\u001b[43mseed\u001b[49m\u001b[38;5;241;43m=\u001b[39;49m\u001b[43mseed\u001b[49m\u001b[43m,\u001b[49m\n\u001b[1;32m    220\u001b[0m \u001b[43m    \u001b[49m\u001b[43mfollow_links\u001b[49m\u001b[38;5;241;43m=\u001b[39;49m\u001b[43mfollow_links\u001b[49m\u001b[43m,\u001b[49m\n\u001b[1;32m    221\u001b[0m \u001b[43m\u001b[49m\u001b[43m)\u001b[49m\n\u001b[1;32m    223\u001b[0m \u001b[38;5;28;01mif\u001b[39;00m label_mode \u001b[38;5;241m==\u001b[39m \u001b[38;5;124m\"\u001b[39m\u001b[38;5;124mbinary\u001b[39m\u001b[38;5;124m\"\u001b[39m \u001b[38;5;129;01mand\u001b[39;00m \u001b[38;5;28mlen\u001b[39m(class_names) \u001b[38;5;241m!=\u001b[39m \u001b[38;5;241m2\u001b[39m:\n\u001b[1;32m    224\u001b[0m     \u001b[38;5;28;01mraise\u001b[39;00m \u001b[38;5;167;01mValueError\u001b[39;00m(\n\u001b[1;32m    225\u001b[0m         \u001b[38;5;124m'\u001b[39m\u001b[38;5;124mWhen passing `label_mode=\u001b[39m\u001b[38;5;124m\"\u001b[39m\u001b[38;5;124mbinary\u001b[39m\u001b[38;5;124m\"\u001b[39m\u001b[38;5;124m`, there must be exactly 2 \u001b[39m\u001b[38;5;124m'\u001b[39m\n\u001b[1;32m    226\u001b[0m         \u001b[38;5;124mf\u001b[39m\u001b[38;5;124m\"\u001b[39m\u001b[38;5;124mclass_names. Received: class_names=\u001b[39m\u001b[38;5;132;01m{\u001b[39;00mclass_names\u001b[38;5;132;01m}\u001b[39;00m\u001b[38;5;124m\"\u001b[39m\n\u001b[1;32m    227\u001b[0m     )\n",
      "File \u001b[0;32m/localscratch/thomaslaboucheix.201.0/lib/python3.9/site-packages/keras/src/utils/dataset_utils.py:574\u001b[0m, in \u001b[0;36mindex_directory\u001b[0;34m(directory, labels, formats, class_names, shuffle, seed, follow_links)\u001b[0m\n\u001b[1;32m    572\u001b[0m labels_list \u001b[38;5;241m=\u001b[39m []\n\u001b[1;32m    573\u001b[0m \u001b[38;5;28;01mfor\u001b[39;00m res \u001b[38;5;129;01min\u001b[39;00m results:\n\u001b[0;32m--> 574\u001b[0m     partial_filenames, partial_labels \u001b[38;5;241m=\u001b[39m \u001b[43mres\u001b[49m\u001b[38;5;241;43m.\u001b[39;49m\u001b[43mget\u001b[49m\u001b[43m(\u001b[49m\u001b[43m)\u001b[49m\n\u001b[1;32m    575\u001b[0m     labels_list\u001b[38;5;241m.\u001b[39mappend(partial_labels)\n\u001b[1;32m    576\u001b[0m     filenames \u001b[38;5;241m+\u001b[39m\u001b[38;5;241m=\u001b[39m partial_filenames\n",
      "File \u001b[0;32m/cvmfs/soft.computecanada.ca/easybuild/software/2020/avx512/Core/python/3.9.6/lib/python3.9/multiprocessing/pool.py:765\u001b[0m, in \u001b[0;36mApplyResult.get\u001b[0;34m(self, timeout)\u001b[0m\n\u001b[1;32m    764\u001b[0m \u001b[38;5;28;01mdef\u001b[39;00m \u001b[38;5;21mget\u001b[39m(\u001b[38;5;28mself\u001b[39m, timeout\u001b[38;5;241m=\u001b[39m\u001b[38;5;28;01mNone\u001b[39;00m):\n\u001b[0;32m--> 765\u001b[0m     \u001b[38;5;28;43mself\u001b[39;49m\u001b[38;5;241;43m.\u001b[39;49m\u001b[43mwait\u001b[49m\u001b[43m(\u001b[49m\u001b[43mtimeout\u001b[49m\u001b[43m)\u001b[49m\n\u001b[1;32m    766\u001b[0m     \u001b[38;5;28;01mif\u001b[39;00m \u001b[38;5;129;01mnot\u001b[39;00m \u001b[38;5;28mself\u001b[39m\u001b[38;5;241m.\u001b[39mready():\n\u001b[1;32m    767\u001b[0m         \u001b[38;5;28;01mraise\u001b[39;00m \u001b[38;5;167;01mTimeoutError\u001b[39;00m\n",
      "File \u001b[0;32m/cvmfs/soft.computecanada.ca/easybuild/software/2020/avx512/Core/python/3.9.6/lib/python3.9/multiprocessing/pool.py:762\u001b[0m, in \u001b[0;36mApplyResult.wait\u001b[0;34m(self, timeout)\u001b[0m\n\u001b[1;32m    761\u001b[0m \u001b[38;5;28;01mdef\u001b[39;00m \u001b[38;5;21mwait\u001b[39m(\u001b[38;5;28mself\u001b[39m, timeout\u001b[38;5;241m=\u001b[39m\u001b[38;5;28;01mNone\u001b[39;00m):\n\u001b[0;32m--> 762\u001b[0m     \u001b[38;5;28;43mself\u001b[39;49m\u001b[38;5;241;43m.\u001b[39;49m\u001b[43m_event\u001b[49m\u001b[38;5;241;43m.\u001b[39;49m\u001b[43mwait\u001b[49m\u001b[43m(\u001b[49m\u001b[43mtimeout\u001b[49m\u001b[43m)\u001b[49m\n",
      "File \u001b[0;32m/cvmfs/soft.computecanada.ca/easybuild/software/2020/avx512/Core/python/3.9.6/lib/python3.9/threading.py:574\u001b[0m, in \u001b[0;36mEvent.wait\u001b[0;34m(self, timeout)\u001b[0m\n\u001b[1;32m    572\u001b[0m signaled \u001b[38;5;241m=\u001b[39m \u001b[38;5;28mself\u001b[39m\u001b[38;5;241m.\u001b[39m_flag\n\u001b[1;32m    573\u001b[0m \u001b[38;5;28;01mif\u001b[39;00m \u001b[38;5;129;01mnot\u001b[39;00m signaled:\n\u001b[0;32m--> 574\u001b[0m     signaled \u001b[38;5;241m=\u001b[39m \u001b[38;5;28;43mself\u001b[39;49m\u001b[38;5;241;43m.\u001b[39;49m\u001b[43m_cond\u001b[49m\u001b[38;5;241;43m.\u001b[39;49m\u001b[43mwait\u001b[49m\u001b[43m(\u001b[49m\u001b[43mtimeout\u001b[49m\u001b[43m)\u001b[49m\n\u001b[1;32m    575\u001b[0m \u001b[38;5;28;01mreturn\u001b[39;00m signaled\n",
      "File \u001b[0;32m/cvmfs/soft.computecanada.ca/easybuild/software/2020/avx512/Core/python/3.9.6/lib/python3.9/threading.py:312\u001b[0m, in \u001b[0;36mCondition.wait\u001b[0;34m(self, timeout)\u001b[0m\n\u001b[1;32m    310\u001b[0m \u001b[38;5;28;01mtry\u001b[39;00m:    \u001b[38;5;66;03m# restore state no matter what (e.g., KeyboardInterrupt)\u001b[39;00m\n\u001b[1;32m    311\u001b[0m     \u001b[38;5;28;01mif\u001b[39;00m timeout \u001b[38;5;129;01mis\u001b[39;00m \u001b[38;5;28;01mNone\u001b[39;00m:\n\u001b[0;32m--> 312\u001b[0m         \u001b[43mwaiter\u001b[49m\u001b[38;5;241;43m.\u001b[39;49m\u001b[43macquire\u001b[49m\u001b[43m(\u001b[49m\u001b[43m)\u001b[49m\n\u001b[1;32m    313\u001b[0m         gotit \u001b[38;5;241m=\u001b[39m \u001b[38;5;28;01mTrue\u001b[39;00m\n\u001b[1;32m    314\u001b[0m     \u001b[38;5;28;01melse\u001b[39;00m:\n",
      "\u001b[0;31mKeyboardInterrupt\u001b[0m: "
     ]
    }
   ],
   "source": [
    "batch_size = 3\n",
    "img_height = 200\n",
    "img_width = 200\n",
    "\n",
    "train_data = tf.keras.preprocessing.image_dataset_from_directory(\n",
    "  data_dir_train,\n",
    "  validation_split=0.2,\n",
    "  subset=\"training\",\n",
    "  seed=42,\n",
    "  image_size=(img_height, img_width),\n",
    "  batch_size=batch_size,\n",
    ")\n",
    "\n",
    "val_data = tf.keras.preprocessing.image_dataset_from_directory(\n",
    "  data_dir_test,\n",
    "  validation_split=0.2,\n",
    "  subset=\"validation\",\n",
    "  seed=42,\n",
    "  image_size=(img_height, img_width),\n",
    "  batch_size=batch_size\n",
    ")\n",
    "\n",
    "class_names = train_data.class_names\n",
    "print(class_names)"
   ]
  },
  {
   "cell_type": "code",
   "execution_count": null,
   "id": "d5a336e3-8edb-4872-a49d-10933b38752c",
   "metadata": {},
   "outputs": [],
   "source": [
    "plt.figure(figsize=(10, 10))\n",
    "for images, labels in train_data.take(1):\n",
    "  for i in range(3):\n",
    "    ax = plt.subplot(1, 3, i + 1)\n",
    "    plt.imshow(images[i].numpy().astype(\"uint8\"))\n",
    "    plt.title(class_names[labels[i]])\n",
    "    plt.axis(\"off\")"
   ]
  },
  {
   "cell_type": "code",
   "execution_count": null,
   "id": "703413e1-aa91-4ba9-8f14-05980b5aaee7",
   "metadata": {},
   "outputs": [],
   "source": [
    "from tensorflow.keras import layers\n",
    "from tensorflow.keras.optimizers import Adam\n",
    "\n",
    "num_classes = 4\n",
    "\n",
    "model = tf.keras.Sequential([\n",
    "    layers.experimental.preprocessing.Rescaling(1./255),\n",
    "    layers.Conv2D(128, 4, activation='relu'),\n",
    "    layers.MaxPooling2D(),\n",
    "    layers.Conv2D(64, 4, activation='relu'),\n",
    "    layers.MaxPooling2D(),\n",
    "    layers.Conv2D(32, 4, activation='relu'),\n",
    "    layers.MaxPooling2D(),\n",
    "    layers.Conv2D(16, 4, activation='relu'),\n",
    "    layers.MaxPooling2D(),\n",
    "    layers.Flatten(),\n",
    "    layers.Dense(64, activation='relu'),\n",
    "    layers.Dense(num_classes, activation='softmax')\n",
    "])"
   ]
  },
  {
   "cell_type": "code",
   "execution_count": null,
   "id": "a0e7d55e-7e2b-456e-b26c-69a69a712718",
   "metadata": {},
   "outputs": [],
   "source": [
    "import os\n",
    "os.environ['TF_XLA_FLAGS'] = '--tf_xla_auto_jit=2'"
   ]
  },
  {
   "cell_type": "code",
   "execution_count": null,
   "id": "bb3ca12b-4a42-45ad-af2f-2c84651a79ec",
   "metadata": {},
   "outputs": [],
   "source": [
    "model.compile(\n",
    "    optimizer='adam',\n",
    "    loss=tf.losses.SparseCategoricalCrossentropy(from_logits=True),\n",
    "    metrics=['accuracy']\n",
    ")\n",
    "\n",
    "logdir=\"logs\"\n",
    "\n",
    "tensorboard_callback = keras.callbacks.TensorBoard(\n",
    "    log_dir=logdir,\n",
    "    histogram_freq=1,\n",
    "    write_images=logdir,\n",
    "    embeddings_data=train_data\n",
    ")"
   ]
  },
  {
   "cell_type": "code",
   "execution_count": null,
   "id": "dae55297-afc2-4be5-875c-88df5f83fc91",
   "metadata": {},
   "outputs": [],
   "source": [
    "!pip install --upgrade tensorflow"
   ]
  },
  {
   "cell_type": "code",
   "execution_count": null,
   "id": "dde4f46b-e3c2-4ad0-928c-00e58b098216",
   "metadata": {},
   "outputs": [],
   "source": [
    "model.fit( \n",
    "    train_data,\n",
    "    validation_data=val_data,\n",
    "    epochs=15,\n",
    "    callbacks=[tensorboard_callback]\n",
    ")"
   ]
  },
  {
   "cell_type": "code",
   "execution_count": null,
   "id": "fe8ef6b9-01e7-4f6f-ac38-e312c346f258",
   "metadata": {},
   "outputs": [],
   "source": [
    "model.save('my_model.keras')"
   ]
  },
  {
   "cell_type": "code",
   "execution_count": null,
   "id": "305aaa92-b0e7-42dc-8230-b534db82b811",
   "metadata": {},
   "outputs": [],
   "source": [
    "#model.summary()"
   ]
  },
  {
   "cell_type": "code",
   "execution_count": null,
   "id": "1578637d-53cd-475d-a207-30ed65009f8f",
   "metadata": {},
   "outputs": [],
   "source": [
    "test_loss, test_accuracy = model.evaluate(val_data)\n",
    "print(f\"Test Accuracy: {test_accuracy*100:.2f}%\")"
   ]
  },
  {
   "cell_type": "code",
   "execution_count": null,
   "id": "043080dc-642a-473b-b091-8dfa1f2d1888",
   "metadata": {},
   "outputs": [],
   "source": [
    "#weights = model.get_weights()\n",
    "\n",
    "# Afficher les poids\n",
    "#for i in range(len(weights)):\n",
    "#    print(f'Layer {i + 1} - Shape: {weights[i].shape}')\n",
    "#    print(weights[i])"
   ]
  },
  {
   "cell_type": "code",
   "execution_count": null,
   "id": "5c9ba1c8-4412-4187-8787-8bbc3b3b69fa",
   "metadata": {},
   "outputs": [],
   "source": [
    "# test l'ia avec\n",
    "\n",
    "#from google.colab import files\n",
    "from tensorflow.keras.preprocessing import image\n",
    "\n",
    "img_path_cnv = './OCT2017 /test/CNV/CNV-1016042-1.jpeg'\n",
    "img_path_dme = './OCT2017 /test/DME/DME-1081406-1.jpeg'\n",
    "img_path_drusen = './OCT2017 /test/DRUSEN/DRUSEN-1083159-1.jpeg'\n",
    "img_path_normal = './OCT2017 /test/NORMAL/NORMAL-1017237-1.jpeg'\n",
    "\n",
    "def predict_picture(path):\n",
    "    img = image.load_img(path, target_size=(200, 200))\n",
    "\n",
    "    plt.imshow(img)\n",
    "    plt.axis('off')\n",
    "    plt.show()\n",
    "\n",
    "    img_array = image.img_to_array(img)\n",
    "    img_array = np.expand_dims(img_array, axis=0)\n",
    "    img_array /= 255.0\n",
    "    res = model.predict(img_array)\n",
    "    print(\"res\", res)\n",
    "    predicted_class = np.argmax(res)\n",
    "    print('predicted_class', predicted_class)\n",
    "    class_probabilities = res[0]\n",
    "    for i, prob in enumerate(class_probabilities):\n",
    "        print(f\"Probabilité de la classe {i}: {prob*100:.2f}%\")\n",
    "    # ['CNV', 'DME', 'DRUSEN', 'NORMAL']\n",
    "\n",
    "print(\"cnv\")\n",
    "predict_picture(img_path_cnv)\n",
    "print(\"dme\")\n",
    "predict_picture(img_path_dme)\n",
    "print(\"drusen\")\n",
    "predict_picture(img_path_drusen)\n",
    "print(\"normal\")\n",
    "predict_picture(img_path_normal)"
   ]
  }
 ],
 "metadata": {
  "kernelspec": {
   "display_name": "nom_de_votre_env",
   "language": "python",
   "name": "nom_de_votre_env"
  },
  "language_info": {
   "codemirror_mode": {
    "name": "ipython",
    "version": 3
   },
   "file_extension": ".py",
   "mimetype": "text/x-python",
   "name": "python",
   "nbconvert_exporter": "python",
   "pygments_lexer": "ipython3",
   "version": "3.9.6"
  }
 },
 "nbformat": 4,
 "nbformat_minor": 5
}
